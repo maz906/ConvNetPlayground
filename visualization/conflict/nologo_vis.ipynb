{
 "cells": [
  {
   "cell_type": "code",
   "execution_count": 16,
   "metadata": {
    "collapsed": true
   },
   "outputs": [],
   "source": [
    "import os\n",
    "import caffe\n",
    "import numpy as np\n",
    "import matplotlib.pyplot as plt\n",
    "%matplotlib inline\n",
    "\n",
    "# set the plotting parameters\n",
    "plt.rcParams['figure.figsize'] = (10,10)\n",
    "plt.rcParams['image.interpolation'] = 'nearest'\n",
    "plt.rcParams['image.cmap'] = 'gray'\n",
    "\n",
    "# we'll use the GoogLeNet model we fine-tuned\n",
    "caffe_root = '/home/rips_tc/caffe/'\n",
    "caffe.set_mode_cpu()\n",
    "net = caffe.Net(caffe_root + 'models/google_logonet/deploy.prototxt',\n",
    "                caffe_root + 'models/google_logonet/logonet.caffemodel',\n",
    "                caffe.TEST)\n",
    "net.blobs['data'].reshape(1, 3, 224, 224)\n",
    "\n",
    "# set the transformer to conform to ImageNet standard\n",
    "transformer = caffe.io.Transformer({'data': net.blobs['data'].data.shape})\n",
    "transformer.set_transpose('data', (2,0,1))\n",
    "transformer.set_mean('data', np.load(caffe_root + 'data/logos/logos_mean_deploy.npy').mean(1).mean(1)) # mean pixel\n",
    "transformer.set_raw_scale('data', 255)  # imagenet operates on [0,255]\n",
    "transformer.set_channel_swap('data', (2,1,0))\n",
    "\n",
    "#we'll want the labels later, so load them from text:\n",
    "logo_labels = caffe_root + 'data/logos/index-brand.txt'\n",
    "labels = np.loadtxt(logo_labels, str, delimiter='\\t')"
   ]
  },
  {
   "cell_type": "code",
   "execution_count": 30,
   "metadata": {
    "collapsed": false
   },
   "outputs": [
    {
     "data": {
      "text/plain": [
       "[<matplotlib.lines.Line2D at 0x7fa350d081d0>]"
      ]
     },
     "execution_count": 30,
     "metadata": {},
     "output_type": "execute_result"
    },
    {
     "data": {
      "image/png": "[encoded data removed]",
      "text/plain": [
       "<matplotlib.figure.Figure at 0x7fa3510ec410>"
      ]
     },
     "metadata": {},
     "output_type": "display_data"
    }
   ],
   "source": [
    "def top_results(image_src, num_results=3):\n",
    "    net.blobs['data'].data[...] = transformer.preprocess('data', caffe.io.load_image(image_src))\n",
    "    out = net.forward()\n",
    "    feat = net.blobs['prob'].data[0]\n",
    "    plt.plot(feat.flat)\n",
    "    feat.flatten()\n",
    "\n",
    "image_root = '/home/rips_tc/caffe/data/logos/images/'\n",
    "nologo_root = '/home/rips_tc/Desktop/IMAGE_DATA_BACKUP/3500_BRANDS_FINAL_BACKUP/no-logo/'\n",
    "top_results(nologo_root + 'image_5.jpeg')\n",
    "feat = net.blobs['pool5/7x7_s1'].data[0]\n",
    "plt.subplot(2, 1, 1)\n",
    "plt.plot(feat.flat)\n",
    "#plt.subplot(2, 1, 2)\n",
    "#_ = plt.hist(feat.flat[feat.flat > 0], bins=100)"
   ]
  },
  {
   "cell_type": "code",
   "execution_count": 23,
   "metadata": {
    "collapsed": false,
    "scrolled": true
   },
   "outputs": [
    {
     "data": {
      "text/plain": [
       "[('data', (1, 3, 224, 224)),\n",
       " ('conv1/7x7_s2', (1, 64, 112, 112)),\n",
       " ('pool1/3x3_s2', (1, 64, 56, 56)),\n",
       " ('pool1/norm1', (1, 64, 56, 56)),\n",
       " ('conv2/3x3_reduce', (1, 64, 56, 56)),\n",
       " ('conv2/3x3', (1, 192, 56, 56)),\n",
       " ('conv2/norm2', (1, 192, 56, 56)),\n",
       " ('pool2/3x3_s2', (1, 192, 28, 28)),\n",
       " ('pool2/3x3_s2_pool2/3x3_s2_0_split_0', (1, 192, 28, 28)),\n",
       " ('pool2/3x3_s2_pool2/3x3_s2_0_split_1', (1, 192, 28, 28)),\n",
       " ('pool2/3x3_s2_pool2/3x3_s2_0_split_2', (1, 192, 28, 28)),\n",
       " ('pool2/3x3_s2_pool2/3x3_s2_0_split_3', (1, 192, 28, 28)),\n",
       " ('inception_3a/1x1', (1, 64, 28, 28)),\n",
       " ('inception_3a/3x3_reduce', (1, 96, 28, 28)),\n",
       " ('inception_3a/3x3', (1, 128, 28, 28)),\n",
       " ('inception_3a/5x5_reduce', (1, 16, 28, 28)),\n",
       " ('inception_3a/5x5', (1, 32, 28, 28)),\n",
       " ('inception_3a/pool', (1, 192, 28, 28)),\n",
       " ('inception_3a/pool_proj', (1, 32, 28, 28)),\n",
       " ('inception_3a/output', (1, 256, 28, 28)),\n",
       " ('inception_3a/output_inception_3a/output_0_split_0', (1, 256, 28, 28)),\n",
       " ('inception_3a/output_inception_3a/output_0_split_1', (1, 256, 28, 28)),\n",
       " ('inception_3a/output_inception_3a/output_0_split_2', (1, 256, 28, 28)),\n",
       " ('inception_3a/output_inception_3a/output_0_split_3', (1, 256, 28, 28)),\n",
       " ('inception_3b/1x1', (1, 128, 28, 28)),\n",
       " ('inception_3b/3x3_reduce', (1, 128, 28, 28)),\n",
       " ('inception_3b/3x3', (1, 192, 28, 28)),\n",
       " ('inception_3b/5x5_reduce', (1, 32, 28, 28)),\n",
       " ('inception_3b/5x5', (1, 96, 28, 28)),\n",
       " ('inception_3b/pool', (1, 256, 28, 28)),\n",
       " ('inception_3b/pool_proj', (1, 64, 28, 28)),\n",
       " ('inception_3b/output', (1, 480, 28, 28)),\n",
       " ('pool3/3x3_s2', (1, 480, 14, 14)),\n",
       " ('pool3/3x3_s2_pool3/3x3_s2_0_split_0', (1, 480, 14, 14)),\n",
       " ('pool3/3x3_s2_pool3/3x3_s2_0_split_1', (1, 480, 14, 14)),\n",
       " ('pool3/3x3_s2_pool3/3x3_s2_0_split_2', (1, 480, 14, 14)),\n",
       " ('pool3/3x3_s2_pool3/3x3_s2_0_split_3', (1, 480, 14, 14)),\n",
       " ('inception_4a/1x1', (1, 192, 14, 14)),\n",
       " ('inception_4a/3x3_reduce', (1, 96, 14, 14)),\n",
       " ('inception_4a/3x3', (1, 208, 14, 14)),\n",
       " ('inception_4a/5x5_reduce', (1, 16, 14, 14)),\n",
       " ('inception_4a/5x5', (1, 48, 14, 14)),\n",
       " ('inception_4a/pool', (1, 480, 14, 14)),\n",
       " ('inception_4a/pool_proj', (1, 64, 14, 14)),\n",
       " ('inception_4a/output', (1, 512, 14, 14)),\n",
       " ('inception_4a/output_inception_4a/output_0_split_0', (1, 512, 14, 14)),\n",
       " ('inception_4a/output_inception_4a/output_0_split_1', (1, 512, 14, 14)),\n",
       " ('inception_4a/output_inception_4a/output_0_split_2', (1, 512, 14, 14)),\n",
       " ('inception_4a/output_inception_4a/output_0_split_3', (1, 512, 14, 14)),\n",
       " ('inception_4b/1x1', (1, 160, 14, 14)),\n",
       " ('inception_4b/3x3_reduce', (1, 112, 14, 14)),\n",
       " ('inception_4b/3x3', (1, 224, 14, 14)),\n",
       " ('inception_4b/5x5_reduce', (1, 24, 14, 14)),\n",
       " ('inception_4b/5x5', (1, 64, 14, 14)),\n",
       " ('inception_4b/pool', (1, 512, 14, 14)),\n",
       " ('inception_4b/pool_proj', (1, 64, 14, 14)),\n",
       " ('inception_4b/output', (1, 512, 14, 14)),\n",
       " ('inception_4b/output_inception_4b/output_0_split_0', (1, 512, 14, 14)),\n",
       " ('inception_4b/output_inception_4b/output_0_split_1', (1, 512, 14, 14)),\n",
       " ('inception_4b/output_inception_4b/output_0_split_2', (1, 512, 14, 14)),\n",
       " ('inception_4b/output_inception_4b/output_0_split_3', (1, 512, 14, 14)),\n",
       " ('inception_4c/1x1', (1, 128, 14, 14)),\n",
       " ('inception_4c/3x3_reduce', (1, 128, 14, 14)),\n",
       " ('inception_4c/3x3', (1, 256, 14, 14)),\n",
       " ('inception_4c/5x5_reduce', (1, 24, 14, 14)),\n",
       " ('inception_4c/5x5', (1, 64, 14, 14)),\n",
       " ('inception_4c/pool', (1, 512, 14, 14)),\n",
       " ('inception_4c/pool_proj', (1, 64, 14, 14)),\n",
       " ('inception_4c/output', (1, 512, 14, 14)),\n",
       " ('inception_4c/output_inception_4c/output_0_split_0', (1, 512, 14, 14)),\n",
       " ('inception_4c/output_inception_4c/output_0_split_1', (1, 512, 14, 14)),\n",
       " ('inception_4c/output_inception_4c/output_0_split_2', (1, 512, 14, 14)),\n",
       " ('inception_4c/output_inception_4c/output_0_split_3', (1, 512, 14, 14)),\n",
       " ('inception_4d/1x1', (1, 112, 14, 14)),\n",
       " ('inception_4d/3x3_reduce', (1, 144, 14, 14)),\n",
       " ('inception_4d/3x3', (1, 288, 14, 14)),\n",
       " ('inception_4d/5x5_reduce', (1, 32, 14, 14)),\n",
       " ('inception_4d/5x5', (1, 64, 14, 14)),\n",
       " ('inception_4d/pool', (1, 512, 14, 14)),\n",
       " ('inception_4d/pool_proj', (1, 64, 14, 14)),\n",
       " ('inception_4d/output', (1, 528, 14, 14)),\n",
       " ('inception_4d/output_inception_4d/output_0_split_0', (1, 528, 14, 14)),\n",
       " ('inception_4d/output_inception_4d/output_0_split_1', (1, 528, 14, 14)),\n",
       " ('inception_4d/output_inception_4d/output_0_split_2', (1, 528, 14, 14)),\n",
       " ('inception_4d/output_inception_4d/output_0_split_3', (1, 528, 14, 14)),\n",
       " ('inception_4e/1x1', (1, 256, 14, 14)),\n",
       " ('inception_4e/3x3_reduce', (1, 160, 14, 14)),\n",
       " ('inception_4e/3x3', (1, 320, 14, 14)),\n",
       " ('inception_4e/5x5_reduce', (1, 32, 14, 14)),\n",
       " ('inception_4e/5x5', (1, 128, 14, 14)),\n",
       " ('inception_4e/pool', (1, 528, 14, 14)),\n",
       " ('inception_4e/pool_proj', (1, 128, 14, 14)),\n",
       " ('inception_4e/output', (1, 832, 14, 14)),\n",
       " ('pool4/3x3_s2', (1, 832, 7, 7)),\n",
       " ('pool4/3x3_s2_pool4/3x3_s2_0_split_0', (1, 832, 7, 7)),\n",
       " ('pool4/3x3_s2_pool4/3x3_s2_0_split_1', (1, 832, 7, 7)),\n",
       " ('pool4/3x3_s2_pool4/3x3_s2_0_split_2', (1, 832, 7, 7)),\n",
       " ('pool4/3x3_s2_pool4/3x3_s2_0_split_3', (1, 832, 7, 7)),\n",
       " ('inception_5a/1x1', (1, 256, 7, 7)),\n",
       " ('inception_5a/3x3_reduce', (1, 160, 7, 7)),\n",
       " ('inception_5a/3x3', (1, 320, 7, 7)),\n",
       " ('inception_5a/5x5_reduce', (1, 32, 7, 7)),\n",
       " ('inception_5a/5x5', (1, 128, 7, 7)),\n",
       " ('inception_5a/pool', (1, 832, 7, 7)),\n",
       " ('inception_5a/pool_proj', (1, 128, 7, 7)),\n",
       " ('inception_5a/output', (1, 832, 7, 7)),\n",
       " ('inception_5a/output_inception_5a/output_0_split_0', (1, 832, 7, 7)),\n",
       " ('inception_5a/output_inception_5a/output_0_split_1', (1, 832, 7, 7)),\n",
       " ('inception_5a/output_inception_5a/output_0_split_2', (1, 832, 7, 7)),\n",
       " ('inception_5a/output_inception_5a/output_0_split_3', (1, 832, 7, 7)),\n",
       " ('inception_5b/1x1', (1, 384, 7, 7)),\n",
       " ('inception_5b/3x3_reduce', (1, 192, 7, 7)),\n",
       " ('inception_5b/3x3', (1, 384, 7, 7)),\n",
       " ('inception_5b/5x5_reduce', (1, 48, 7, 7)),\n",
       " ('inception_5b/5x5', (1, 128, 7, 7)),\n",
       " ('inception_5b/pool', (1, 832, 7, 7)),\n",
       " ('inception_5b/pool_proj', (1, 128, 7, 7)),\n",
       " ('inception_5b/output', (1, 1024, 7, 7)),\n",
       " ('pool5/7x7_s1', (1, 1024, 1, 1)),\n",
       " ('loss3/classifier_logos', (1, 167)),\n",
       " ('prob', (1, 167))]"
      ]
     },
     "execution_count": 23,
     "metadata": {},
     "output_type": "execute_result"
    }
   ],
   "source": [
    "[(k, v.data.shape) for k, v in net.blobs.items()]"
   ]
  },
  {
   "cell_type": "code",
   "execution_count": 22,
   "metadata": {
    "collapsed": true
   },
   "outputs": [
    {
     "ename": "KeyboardInterrupt",
     "evalue": "",
     "output_type": "error",
     "traceback": [
      "\u001b[1;31m---------------------------------------------------------------------------\u001b[0m",
      "\u001b[1;31mKeyboardInterrupt\u001b[0m                         Traceback (most recent call last)",
      "\u001b[1;32m<ipython-input-22-deabdd6c0e16>\u001b[0m in \u001b[0;36m<module>\u001b[1;34m()\u001b[0m\n\u001b[0;32m      9\u001b[0m \u001b[0mmax\u001b[0m \u001b[1;33m=\u001b[0m \u001b[1;36m0\u001b[0m\u001b[1;33m\u001b[0m\u001b[0m\n\u001b[0;32m     10\u001b[0m \u001b[1;32mfor\u001b[0m \u001b[0mi\u001b[0m\u001b[1;33m,\u001b[0m \u001b[0mimage\u001b[0m \u001b[1;32min\u001b[0m \u001b[0menumerate\u001b[0m\u001b[1;33m(\u001b[0m\u001b[0mos\u001b[0m\u001b[1;33m.\u001b[0m\u001b[0mlistdir\u001b[0m\u001b[1;33m(\u001b[0m\u001b[0mnologo_root\u001b[0m\u001b[1;33m)\u001b[0m\u001b[1;33m)\u001b[0m\u001b[1;33m:\u001b[0m\u001b[1;33m\u001b[0m\u001b[0m\n\u001b[1;32m---> 11\u001b[1;33m     \u001b[0mtest\u001b[0m \u001b[1;33m=\u001b[0m \u001b[0mtop_results\u001b[0m\u001b[1;33m(\u001b[0m\u001b[0mnologo_root\u001b[0m \u001b[1;33m+\u001b[0m \u001b[1;34m'image_'\u001b[0m \u001b[1;33m+\u001b[0m \u001b[0mstr\u001b[0m\u001b[1;33m(\u001b[0m\u001b[0mi\u001b[0m \u001b[1;33m+\u001b[0m \u001b[1;36m1\u001b[0m\u001b[1;33m)\u001b[0m \u001b[1;33m+\u001b[0m \u001b[1;34m'.jpeg'\u001b[0m\u001b[1;33m)\u001b[0m\u001b[1;33m.\u001b[0m\u001b[0mmax\u001b[0m\u001b[1;33m(\u001b[0m\u001b[1;33m)\u001b[0m\u001b[1;33m\u001b[0m\u001b[0m\n\u001b[0m\u001b[0;32m     12\u001b[0m     \u001b[1;32mif\u001b[0m \u001b[0mtest\u001b[0m \u001b[1;33m>=\u001b[0m \u001b[0mmax\u001b[0m\u001b[1;33m:\u001b[0m\u001b[1;33m\u001b[0m\u001b[0m\n\u001b[0;32m     13\u001b[0m         \u001b[0mmax\u001b[0m \u001b[1;33m=\u001b[0m \u001b[0mtest\u001b[0m\u001b[1;33m\u001b[0m\u001b[0m\n",
      "\u001b[1;32m<ipython-input-22-deabdd6c0e16>\u001b[0m in \u001b[0;36mtop_results\u001b[1;34m(image_src, num_results)\u001b[0m\n\u001b[0;32m      1\u001b[0m \u001b[1;32mdef\u001b[0m \u001b[0mtop_results\u001b[0m\u001b[1;33m(\u001b[0m\u001b[0mimage_src\u001b[0m\u001b[1;33m,\u001b[0m \u001b[0mnum_results\u001b[0m\u001b[1;33m=\u001b[0m\u001b[1;36m3\u001b[0m\u001b[1;33m)\u001b[0m\u001b[1;33m:\u001b[0m\u001b[1;33m\u001b[0m\u001b[0m\n\u001b[0;32m      2\u001b[0m     \u001b[0mnet\u001b[0m\u001b[1;33m.\u001b[0m\u001b[0mblobs\u001b[0m\u001b[1;33m[\u001b[0m\u001b[1;34m'data'\u001b[0m\u001b[1;33m]\u001b[0m\u001b[1;33m.\u001b[0m\u001b[0mdata\u001b[0m\u001b[1;33m[\u001b[0m\u001b[1;33m.\u001b[0m\u001b[1;33m.\u001b[0m\u001b[1;33m.\u001b[0m\u001b[1;33m]\u001b[0m \u001b[1;33m=\u001b[0m \u001b[0mtransformer\u001b[0m\u001b[1;33m.\u001b[0m\u001b[0mpreprocess\u001b[0m\u001b[1;33m(\u001b[0m\u001b[1;34m'data'\u001b[0m\u001b[1;33m,\u001b[0m \u001b[0mcaffe\u001b[0m\u001b[1;33m.\u001b[0m\u001b[0mio\u001b[0m\u001b[1;33m.\u001b[0m\u001b[0mload_image\u001b[0m\u001b[1;33m(\u001b[0m\u001b[0mimage_src\u001b[0m\u001b[1;33m)\u001b[0m\u001b[1;33m)\u001b[0m\u001b[1;33m\u001b[0m\u001b[0m\n\u001b[1;32m----> 3\u001b[1;33m     \u001b[0mout\u001b[0m \u001b[1;33m=\u001b[0m \u001b[0mnet\u001b[0m\u001b[1;33m.\u001b[0m\u001b[0mforward\u001b[0m\u001b[1;33m(\u001b[0m\u001b[1;33m)\u001b[0m\u001b[1;33m\u001b[0m\u001b[0m\n\u001b[0m\u001b[0;32m      4\u001b[0m     \u001b[0mfeat\u001b[0m \u001b[1;33m=\u001b[0m \u001b[0mnet\u001b[0m\u001b[1;33m.\u001b[0m\u001b[0mblobs\u001b[0m\u001b[1;33m[\u001b[0m\u001b[1;34m'prob'\u001b[0m\u001b[1;33m]\u001b[0m\u001b[1;33m.\u001b[0m\u001b[0mdata\u001b[0m\u001b[1;33m[\u001b[0m\u001b[1;36m0\u001b[0m\u001b[1;33m]\u001b[0m\u001b[1;33m\u001b[0m\u001b[0m\n\u001b[0;32m      5\u001b[0m     \u001b[1;31m#plt.plot(feat.flat)\u001b[0m\u001b[1;33m\u001b[0m\u001b[1;33m\u001b[0m\u001b[0m\n",
      "\u001b[1;32m/home/rips_tc/caffe/python/caffe/pycaffe.pyc\u001b[0m in \u001b[0;36m_Net_forward\u001b[1;34m(self, blobs, start, end, **kwargs)\u001b[0m\n\u001b[0;32m     93\u001b[0m             \u001b[0mself\u001b[0m\u001b[1;33m.\u001b[0m\u001b[0mblobs\u001b[0m\u001b[1;33m[\u001b[0m\u001b[0min_\u001b[0m\u001b[1;33m]\u001b[0m\u001b[1;33m.\u001b[0m\u001b[0mdata\u001b[0m\u001b[1;33m[\u001b[0m\u001b[1;33m.\u001b[0m\u001b[1;33m.\u001b[0m\u001b[1;33m.\u001b[0m\u001b[1;33m]\u001b[0m \u001b[1;33m=\u001b[0m \u001b[0mblob\u001b[0m\u001b[1;33m\u001b[0m\u001b[0m\n\u001b[0;32m     94\u001b[0m \u001b[1;33m\u001b[0m\u001b[0m\n\u001b[1;32m---> 95\u001b[1;33m     \u001b[0mself\u001b[0m\u001b[1;33m.\u001b[0m\u001b[0m_forward\u001b[0m\u001b[1;33m(\u001b[0m\u001b[0mstart_ind\u001b[0m\u001b[1;33m,\u001b[0m \u001b[0mend_ind\u001b[0m\u001b[1;33m)\u001b[0m\u001b[1;33m\u001b[0m\u001b[0m\n\u001b[0m\u001b[0;32m     96\u001b[0m \u001b[1;33m\u001b[0m\u001b[0m\n\u001b[0;32m     97\u001b[0m     \u001b[1;31m# Unpack blobs to extract\u001b[0m\u001b[1;33m\u001b[0m\u001b[1;33m\u001b[0m\u001b[0m\n",
      "\u001b[1;31mKeyboardInterrupt\u001b[0m: "
     ]
    }
   ],
   "source": [
    "def top_results(image_src, num_results=3):\n",
    "    net.blobs['data'].data[...] = transformer.preprocess('data', caffe.io.load_image(image_src))\n",
    "    out = net.forward()\n",
    "    feat = net.blobs['prob'].data[0]\n",
    "    #plt.plot(feat.flat)\n",
    "    return feat.flatten()\n",
    "\n",
    "nologo_root = '/home/rips_tc/Desktop/IMAGE_DATA_BACKUP/3500_BRANDS_FINAL_BACKUP/no-logo/'\n",
    "max = 0\n",
    "for i, image in enumerate(os.listdir(nologo_root)):\n",
    "    test = top_results(nologo_root + 'image_' + str(i + 1) + '.jpeg').max()\n",
    "    if test >= max:\n",
    "        max = test\n",
    "print max"
   ]
  },
  {
   "cell_type": "code",
   "execution_count": null,
   "metadata": {
    "collapsed": false
   },
   "outputs": [],
   "source": [
    "num_results = 5\n",
    "labels[temp.flatten().argsort()[-1:-(num_results+1):-1]]\n",
    "temp.flatten().max()"
   ]
  }
 ],
 "metadata": {
  "kernelspec": {
   "display_name": "Python 2",
   "language": "python",
   "name": "python2"
  },
  "language_info": {
   "codemirror_mode": {
    "name": "ipython",
    "version": 2
   },
   "file_extension": ".py",
   "mimetype": "text/x-python",
   "name": "python",
   "nbconvert_exporter": "python",
   "pygments_lexer": "ipython2",
   "version": "2.7.6"
  }
 },
 "nbformat": 4,
 "nbformat_minor": 0
}
