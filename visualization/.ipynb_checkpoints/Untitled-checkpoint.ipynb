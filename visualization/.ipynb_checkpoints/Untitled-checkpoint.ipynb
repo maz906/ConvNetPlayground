{
 "cells": [
  {
   "cell_type": "markdown",
   "metadata": {},
   "source": [
    "We extract the outputs of each layer from the CaffeNet model based on the network architecture of Krizhevsky et al. for ImageNet. The point of this is to see what the CNN will do when given:\n",
    "    a) conflicting textual and visual information\n",
    "    b) a digital logo of a brand\n",
    "    c) the same logo but in a \"real-world\" setting"
   ]
  },
  {
   "cell_type": "code",
   "execution_count": 4,
   "metadata": {
    "collapsed": false,
    "scrolled": true
   },
   "outputs": [],
   "source": [
    "import numpy as np\n",
    "import matplotlib.pyplot as plt\n",
    "%matplotlib inline\n",
    "\n",
    "plt.rcParams['figure.figsize'] = (10,10)\n",
    "plt.rcParams['image.interpolation'] = 'nearest'\n",
    "plt.rcParams['image.cmap'] = 'gray'\n",
    "\n",
    "caffe_root = '/home/rips_tc/caffe/'\n",
    "import os\n",
    "import caffe\n",
    "\n",
    "caffe.set_mode_cpu()\n",
    "net = caffe.Net(caffe_root + 'models/google_logonet/deploy.prototxt',\n",
    "                caffe_root + 'models/google_logonet/logonet.caffemodel',\n",
    "                caffe.TEST)\n",
    "\n",
    "transformer = caffe.io.Transformer({'data': net.blobs['data'].data.shape})\n",
    "transformer.set_transpose('data', (2,0,1))\n",
    "transformer.set_mean('data', np.load(caffe_root + 'data/logos/logos_mean_deploy.npy').mean(1).mean(1)) # mean pixel--read documentation\n",
    "transformer.set_raw_scale('data', 255)  # the reference model operates on images in [0,255] range instead of [0,1]\n",
    "transformer.set_channel_swap('data', (2,1,0)) #should the channels be swapped for googlenet?\n",
    "\n",
    "logo_labels = caffe_root + 'data/logos/index-brand.txt'\n",
    "labels = np.loadtxt(logo_labels, str, delimiter='\\t')"
   ]
  },
  {
   "cell_type": "markdown",
   "metadata": {},
   "source": [
    "Now, for the images. We'll also process all three images at once, so we set the batch to 3."
   ]
  },
  {
   "cell_type": "code",
   "execution_count": 5,
   "metadata": {
    "collapsed": false
   },
   "outputs": [
    {
     "name": "stdout",
     "output_type": "stream",
     "text": [
      "['105 netflix' '166 youtube' '7 android']\n",
      "['105 netflix' '166 youtube' '7 android']\n",
      "['105 netflix' '166 youtube' '7 android']\n",
      "['105 netflix' '166 youtube' '7 android']\n",
      "1 loops, best of 3: 1.9 s per loop\n"
     ]
    }
   ],
   "source": [
    "net.blobs['data'].reshape(3, 3, 224, 224)\n",
    "conflict = caffe_root + 'data/logos/images/netflix/image_2.jpg'\n",
    "digital = caffe_root + 'data/logos/images/lenovo/image_33.jpg'\n",
    "real = caffe_root + 'data/logos/images/lenovo/image_35.jpg'\n",
    "\n",
    "def top_results(image_src, num_results=3):\n",
    "    net.blobs['data'].data[...] = transformer.preprocess('data', caffe.io.load_image(image_src))\n",
    "    out = net.forward()\n",
    "    top_k = net.blobs['prob'].data[0].flatten().argsort()[-1:-(num_results+1):-1]\n",
    "    print labels[top_k]\n",
    "\n",
    "%timeit top_results(conflict)"
   ]
  }
 ],
 "metadata": {
  "kernelspec": {
   "display_name": "Python 2",
   "language": "python",
   "name": "python2"
  },
  "language_info": {
   "codemirror_mode": {
    "name": "ipython",
    "version": 2
   },
   "file_extension": ".py",
   "mimetype": "text/x-python",
   "name": "python",
   "nbconvert_exporter": "python",
   "pygments_lexer": "ipython2",
   "version": "2.7.6"
  }
 },
 "nbformat": 4,
 "nbformat_minor": 0
}
